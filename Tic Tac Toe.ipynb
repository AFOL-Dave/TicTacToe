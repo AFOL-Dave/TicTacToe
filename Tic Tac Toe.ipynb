{
 "cells": [
  {
   "cell_type": "markdown",
   "id": "3b6e8b31",
   "metadata": {},
   "source": [
    "# Description\n",
    "The sixth project in the [Super Data Science](https://www.superdatascience.com/) [Python Masterclass](https://www.superdatascience.com/courses/python-3-programming-beginner-to-pro-masterclass) is a simple implementation of the game [Tic Tac Toe](https://en.wikipedia.org/wiki/Tic-tac-toe)."
   ]
  },
  {
   "cell_type": "markdown",
   "id": "40be6231",
   "metadata": {},
   "source": [
    "The board for this version of Tic Tac Toe is a list of nine positions. Each entry in the list represents a spot on the Tic Tac Toe board. Also, a function is defined which draws the board in its traditional 3 x 3 form."
   ]
  },
  {
   "cell_type": "code",
   "execution_count": 1,
   "id": "e820e7a8",
   "metadata": {},
   "outputs": [],
   "source": [
    "board = [0, 1, 2, 3, 4, 5, 6, 7, 8]\n",
    "\n",
    "def DrawBoard():\n",
    "    print(board[0], board[1], board[2])\n",
    "    print(board[3], board[4], board[5])\n",
    "    print(board[6], board[7], board[8])\n",
    "    print()"
   ]
  },
  {
   "cell_type": "markdown",
   "id": "91476661",
   "metadata": {},
   "source": [
    "Next, the function for processing a drawer turn is defined."
   ]
  },
  {
   "cell_type": "code",
   "execution_count": 2,
   "id": "52ed1425",
   "metadata": {},
   "outputs": [],
   "source": [
    "def PlayTurn(player, marker):\n",
    "    location = int(input(\"{}, enter your desired board location: \".format(player)))\n",
    "    \n",
    "    if board[location] != \"X\" and board[location] != \"O\":\n",
    "        board[location] = marker\n",
    "    else:\n",
    "        print(\"That spot is taken, please try, again.\")\n",
    "        PlayTurn(player, marker)"
   ]
  },
  {
   "cell_type": "markdown",
   "id": "b1e8c10d",
   "metadata": {},
   "source": [
    "Now, define the function which checks if the game is a draw."
   ]
  },
  {
   "cell_type": "code",
   "execution_count": 3,
   "id": "065e0957",
   "metadata": {},
   "outputs": [],
   "source": [
    "def IsDraw():\n",
    "    if board[0] == \"X\" or board[0] == \"O\":\n",
    "        if board[1] == \"X\" or board[1] == \"O\":\n",
    "            if board[2] == \"X\" or board[2] == \"O\":\n",
    "                if board[3] == \"X\" or board[3] == \"O\":\n",
    "                    if board[4] == \"X\" or board[4] == \"O\":\n",
    "                        if board[5] == \"X\" or board[5] == \"O\":\n",
    "                            if board[6] == \"X\" or board[6] == \"O\":\n",
    "                                if board[7] == \"X\" or board[7] == \"O\":\n",
    "                                    if board[8] == \"X\" or board[8] == \"O\":\n",
    "                                        return True"
   ]
  },
  {
   "cell_type": "markdown",
   "id": "6913cc95",
   "metadata": {},
   "source": [
    "The final function that needs definition is the one which checks if there's a winner."
   ]
  },
  {
   "cell_type": "code",
   "execution_count": 4,
   "id": "8dac42ed",
   "metadata": {},
   "outputs": [],
   "source": [
    "def IsWinner(marker):\n",
    "    # Top Row\n",
    "    if board[0] == marker and board[1] == marker and board[2] == marker:\n",
    "        return True\n",
    "    \n",
    "    # Middle Row\n",
    "    if board[3] == marker and board[4] == marker and board[5] == marker:\n",
    "        return True\n",
    "    \n",
    "    # Bottom Row\n",
    "    if board[6] == marker and board[7] == marker and board[8] == marker:\n",
    "        return True\n",
    "    \n",
    "    # Left Column\n",
    "    if board[0] == marker and board[3] == marker and board[6] == marker:\n",
    "        return True\n",
    "    \n",
    "    # Midlle Column\n",
    "    if board[1] == marker and board[4] == marker and board[7] == marker:\n",
    "        return True\n",
    "    \n",
    "    # Right Column\n",
    "    if board[2] == marker and board[5] == marker and board[8] == marker:\n",
    "        return True\n",
    "    \n",
    "    # Top-Left to Bottom-Right Diagonal\n",
    "    if board[0] == marker and board[4] == marker and board[8] == marker:\n",
    "        return True\n",
    "    \n",
    "    # Top-Right to Bottom-Left Diagonal\n",
    "    if board[0] == marker and board[1] == marker and board[2] == marker:\n",
    "        return True"
   ]
  },
  {
   "cell_type": "markdown",
   "id": "b32f9236",
   "metadata": {},
   "source": [
    "Now, bring all the peices together."
   ]
  },
  {
   "cell_type": "code",
   "execution_count": 5,
   "id": "07905e24",
   "metadata": {},
   "outputs": [
    {
     "name": "stdout",
     "output_type": "stream",
     "text": [
      "0 1 2\n",
      "3 4 5\n",
      "6 7 8\n",
      "\n",
      "Player #1, enter your desired board location: 0\n",
      "X 1 2\n",
      "3 4 5\n",
      "6 7 8\n",
      "\n",
      "Player #2, enter your desired board location: 6\n",
      "X 1 2\n",
      "3 4 5\n",
      "O 7 8\n",
      "\n",
      "Player #1, enter your desired board location: 4\n",
      "X 1 2\n",
      "3 X 5\n",
      "O 7 8\n",
      "\n",
      "Player #2, enter your desired board location: 2\n",
      "X 1 O\n",
      "3 X 5\n",
      "O 7 8\n",
      "\n",
      "Player #1, enter your desired board location: 8\n",
      "X 1 O\n",
      "3 X 5\n",
      "O 7 X\n",
      "\n",
      "Player #1 Wins!\n"
     ]
    }
   ],
   "source": [
    "DrawBoard()\n",
    "\n",
    "while True:\n",
    "    PlayTurn(\"Player #1\", \"X\")\n",
    "    DrawBoard()\n",
    "    \n",
    "    if IsWinner(\"X\"):\n",
    "        print(\"Player #1 Wins!\")\n",
    "        break\n",
    "    \n",
    "    if IsDraw():\n",
    "        print(\"Nobody wins. The game is a draw.\")\n",
    "        break\n",
    "    \n",
    "    PlayTurn(\"Player #2\", \"O\")\n",
    "    DrawBoard()\n",
    "    \n",
    "    if IsWinner(\"O\"):\n",
    "        print(\"Player #2 Wins!\")\n",
    "        break"
   ]
  }
 ],
 "metadata": {
  "kernelspec": {
   "display_name": "Python 3",
   "language": "python",
   "name": "python3"
  },
  "language_info": {
   "codemirror_mode": {
    "name": "ipython",
    "version": 3
   },
   "file_extension": ".py",
   "mimetype": "text/x-python",
   "name": "python",
   "nbconvert_exporter": "python",
   "pygments_lexer": "ipython3",
   "version": "3.8.8"
  }
 },
 "nbformat": 4,
 "nbformat_minor": 5
}
